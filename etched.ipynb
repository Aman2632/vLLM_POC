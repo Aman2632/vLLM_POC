{
  "nbformat": 4,
  "nbformat_minor": 0,
  "metadata": {
    "colab": {
      "provenance": []
    },
    "kernelspec": {
      "name": "python3",
      "display_name": "Python 3"
    },
    "language_info": {
      "name": "python"
    }
  },
  "cells": [
    {
      "cell_type": "markdown",
      "source": [
        "Offline Batched Inference\n",
        "\n",
        "We first show an example of using vLLM for offline batched inference on a dataset. In other words, we use vLLM to generate texts for a list of input prompts.\n",
        "\n",
        "Import LLM and SamplingParams from vLLM. The LLM class is the main class for running offline inference with vLLM engine. The SamplingParams class specifies the parameters for the sampling process.\n",
        "\n"
      ],
      "metadata": {
        "id": "KysTMdi0VYmY"
      }
    },
    {
      "cell_type": "code",
      "source": [
        "from vllm import LLM, SamplingParams"
      ],
      "metadata": {
        "id": "TwWiynE6VrMD"
      },
      "execution_count": 7,
      "outputs": []
    },
    {
      "cell_type": "markdown",
      "source": [
        "Define the list of input prompts and the sampling parameters for generation. The sampling temperature is set to 0.8 and the nucleus sampling probability is set to 0.95. For more information about the sampling parameters, refer to the class definition."
      ],
      "metadata": {
        "id": "65Gv9ad8VzA6"
      }
    },
    {
      "cell_type": "code",
      "source": [
        "prompts = [\n",
        "    \"Hello, my name is\",\n",
        "    \"The president of the United States is\",\n",
        "    \"The capital of France is\",\n",
        "    \"The future of AI is\",\n",
        "]\n",
        "sampling_params = SamplingParams(temperature=0.8, top_p=0.95)"
      ],
      "metadata": {
        "id": "QWMIIfsdV1rA"
      },
      "execution_count": 8,
      "outputs": []
    },
    {
      "cell_type": "markdown",
      "source": [
        "Initialize vLLM’s engine for offline inference with the LLM class and the OPT-125M model. The list of supported models can be found at supported models."
      ],
      "metadata": {
        "id": "do120FMTV34l"
      }
    },
    {
      "cell_type": "code",
      "source": [
        "llm = LLM(model=\"facebook/opt-125m\")"
      ],
      "metadata": {
        "id": "CfIoJa1FV6uP",
        "colab": {
          "base_uri": "https://localhost:8080/"
        },
        "outputId": "8d033643-b2af-4fb0-eeec-f261ec9eb009"
      },
      "execution_count": 9,
      "outputs": [
        {
          "output_type": "stream",
          "name": "stdout",
          "text": [
            "INFO 06-05 01:28:48 llm_engine.py:161] Initializing an LLM engine (v0.4.3) with config: model='facebook/opt-125m', speculative_config=None, tokenizer='facebook/opt-125m', skip_tokenizer_init=False, tokenizer_mode=auto, revision=None, rope_scaling=None, tokenizer_revision=None, trust_remote_code=False, dtype=torch.float16, max_seq_len=2048, download_dir=None, load_format=LoadFormat.AUTO, tensor_parallel_size=1, disable_custom_all_reduce=False, quantization=None, enforce_eager=False, kv_cache_dtype=auto, quantization_param_path=None, device_config=cpu, decoding_config=DecodingConfig(guided_decoding_backend='outlines'), seed=0, served_model_name=facebook/opt-125m)\n",
            "WARNING 06-05 01:28:48 cpu_executor.py:113] float16 is not supported on CPU, casting to bfloat16.\n",
            "WARNING 06-05 01:28:48 cpu_executor.py:116] CUDA graph is not supported on CPU, fallback to the eager mode.\n",
            "WARNING 06-05 01:28:48 cpu_executor.py:143] Environment variable VLLM_CPU_KVCACHE_SPACE (GB) for CPU backend is not set, using 4 by default.\n",
            "INFO 06-05 01:28:48 weight_utils.py:221] Using model weights format ['*.bin']\n",
            "INFO 06-05 01:28:49 cpu_executor.py:72] # CPU blocks: 7281\n"
          ]
        }
      ]
    },
    {
      "cell_type": "markdown",
      "source": [
        "Call llm.generate to generate the outputs. It adds the input prompts to vLLM engine’s waiting queue and executes the vLLM engine to generate the outputs with high throughput. The outputs are returned as a list of RequestOutput objects, which include all the output tokens.\n",
        "\n"
      ],
      "metadata": {
        "id": "GTarOwC1V8gP"
      }
    },
    {
      "cell_type": "code",
      "source": [
        "outputs = llm.generate(prompts, sampling_params)\n",
        "\n",
        "# Print the outputs.\n",
        "for output in outputs:\n",
        "    prompt = output.prompt\n",
        "    generated_text = output.outputs[0].text\n",
        "    print(f\"Prompt: {prompt!r}, Generated text: {generated_text!r}\")"
      ],
      "metadata": {
        "id": "yDkjTiyNWAHL",
        "colab": {
          "base_uri": "https://localhost:8080/"
        },
        "outputId": "d7d5845d-c64c-4518-e501-a01b3ffbf74b"
      },
      "execution_count": 10,
      "outputs": [
        {
          "output_type": "stream",
          "name": "stderr",
          "text": [
            "Processed prompts: 100%|██████████| 4/4 [00:02<00:00,  1.92it/s, Generation Speed: 30.72 toks/s]"
          ]
        },
        {
          "output_type": "stream",
          "name": "stdout",
          "text": [
            "Prompt: 'Hello, my name is', Generated text: ' Richard and I live in Essex, UK. I am a Licensed Nursing Consultant'\n",
            "Prompt: 'The president of the United States is', Generated text: ' making no secret of his intention to seek a second term.\\n\\nThat move'\n",
            "Prompt: 'The capital of France is', Generated text: ' going to be a fucking wasteland and the less populated areas in the western part of'\n",
            "Prompt: 'The future of AI is', Generated text: \" so dark that its development will seem entirely unwise.   It's currently\"\n"
          ]
        },
        {
          "output_type": "stream",
          "name": "stderr",
          "text": [
            "\n"
          ]
        }
      ]
    },
    {
      "cell_type": "markdown",
      "source": [
        "The code example can also be found in examples/offline_inference.py."
      ],
      "metadata": {
        "id": "7TUQpqxOWGgt"
      }
    },
    {
      "cell_type": "markdown",
      "source": [
        "OpenAI-Compatible Server\n",
        "\n",
        "vLLM can be deployed as a server that implements the OpenAI API protocol. This allows vLLM to be used as a drop-in replacement for applications using OpenAI API. By default, it starts the server at http://localhost:8000. You can specify the address with --host and --port arguments. The server currently hosts one model at a time (OPT-125M in the command below) and implements list models, create chat completion, and create completion endpoints. We are actively adding support for more endpoints.\n",
        "\n",
        "Start the server:"
      ],
      "metadata": {
        "id": "dgE_E1UCWPj3"
      }
    },
    {
      "cell_type": "code",
      "source": [
        "python -m vllm.entrypoints.openai.api_server \\\n",
        "    --model facebook/opt-125m"
      ],
      "metadata": {
        "id": "fXjok8raWQ2z"
      },
      "execution_count": null,
      "outputs": []
    },
    {
      "cell_type": "markdown",
      "source": [
        "By default, the server uses a predefined chat template stored in the tokenizer. You can override this template by using the --chat-template argument:"
      ],
      "metadata": {
        "id": "UEsmL7asWXf9"
      }
    },
    {
      "cell_type": "code",
      "source": [
        "python -m vllm.entrypoints.openai.api_server \\\n",
        "    --model facebook/opt-125m \\\n",
        "    --chat-template ./examples/template_chatml.jinja"
      ],
      "metadata": {
        "id": "rEWbtbhhWaGz"
      },
      "execution_count": null,
      "outputs": []
    },
    {
      "cell_type": "markdown",
      "source": [
        "This server can be queried in the same format as OpenAI API. For example, list the models:"
      ],
      "metadata": {
        "id": "eTUpKm5hWcHW"
      }
    },
    {
      "cell_type": "code",
      "source": [
        "curl http://localhost:8000/v1/models"
      ],
      "metadata": {
        "id": "pYfcPdg6WePw"
      },
      "execution_count": null,
      "outputs": []
    },
    {
      "cell_type": "markdown",
      "source": [
        "You can pass in the argument --api-key or environment variable VLLM_API_KEY to enable the server to check for API key in the header."
      ],
      "metadata": {
        "id": "ar_jLXMWWf_P"
      }
    },
    {
      "cell_type": "markdown",
      "source": [
        "Using OpenAI Completions API with vLLM\n",
        "\n",
        "Query the model with input prompts:"
      ],
      "metadata": {
        "id": "E3O2uJXwWnwn"
      }
    },
    {
      "cell_type": "code",
      "source": [
        "curl http://localhost:8000/v1/completions \\\n",
        "    -H \"Content-Type: application/json\" \\\n",
        "    -d '{\n",
        "        \"model\": \"facebook/opt-125m\",\n",
        "        \"prompt\": \"San Francisco is a\",\n",
        "        \"max_tokens\": 7,\n",
        "        \"temperature\": 0\n",
        "    }'"
      ],
      "metadata": {
        "id": "XS4BRq5hWqE7"
      },
      "execution_count": null,
      "outputs": []
    },
    {
      "cell_type": "markdown",
      "source": [
        "Since this server is compatible with OpenAI API, you can use it as a drop-in replacement for any applications using OpenAI API. For example, another way to query the server is via the openai python package:"
      ],
      "metadata": {
        "id": "fH1X2OzuWss4"
      }
    },
    {
      "cell_type": "code",
      "source": [
        "from openai import OpenAI\n",
        "\n",
        "# Modify OpenAI's API key and API base to use vLLM's API server.\n",
        "openai_api_key = \"EMPTY\"\n",
        "openai_api_base = \"http://localhost:8000/v1\"\n",
        "client = OpenAI(\n",
        "    api_key=openai_api_key,\n",
        "    base_url=openai_api_base,\n",
        ")\n",
        "completion = client.completions.create(model=\"facebook/opt-125m\",\n",
        "                                      prompt=\"San Francisco is a\")\n",
        "print(\"Completion result:\", completion)"
      ],
      "metadata": {
        "id": "RujDLvTRWvKZ"
      },
      "execution_count": null,
      "outputs": []
    },
    {
      "cell_type": "markdown",
      "source": [
        "For a more detailed client example, refer to examples/openai_completion_client.py."
      ],
      "metadata": {
        "id": "VPwzxDMMWxh5"
      }
    },
    {
      "cell_type": "markdown",
      "source": [
        "Using OpenAI Chat API with vLLM\n",
        "\n",
        "The vLLM server is designed to support the OpenAI Chat API, allowing you to engage in dynamic conversations with the model. The chat interface is a more interactive way to communicate with the model, allowing back-and-forth exchanges that can be stored in the chat history. This is useful for tasks that require context or more detailed explanations.\n",
        "\n",
        "Querying the model using OpenAI Chat API:\n",
        "\n",
        "You can use the create chat completion endpoint to communicate with the model in a chat-like interface:"
      ],
      "metadata": {
        "id": "LuKV2WzzWzwR"
      }
    },
    {
      "cell_type": "code",
      "source": [
        "curl http://localhost:8000/v1/chat/completions \\\n",
        "    -H \"Content-Type: application/json\" \\\n",
        "    -d '{\n",
        "        \"model\": \"facebook/opt-125m\",\n",
        "        \"messages\": [\n",
        "            {\"role\": \"system\", \"content\": \"You are a helpful assistant.\"},\n",
        "            {\"role\": \"user\", \"content\": \"Who won the world series in 2020?\"}\n",
        "        ]\n",
        "    }'"
      ],
      "metadata": {
        "id": "FUBtjA2LW3RS"
      },
      "execution_count": null,
      "outputs": []
    },
    {
      "cell_type": "markdown",
      "source": [
        "Python Client Example:\n",
        "\n",
        "Using the openai python package, you can also communicate with the model in a chat-like manner:\n"
      ],
      "metadata": {
        "id": "yNiIVV8MW5dW"
      }
    },
    {
      "cell_type": "code",
      "source": [
        "from openai import OpenAI\n",
        "# Set OpenAI's API key and API base to use vLLM's API server.\n",
        "openai_api_key = \"EMPTY\"\n",
        "openai_api_base = \"http://localhost:8000/v1\"\n",
        "\n",
        "client = OpenAI(\n",
        "    api_key=openai_api_key,\n",
        "    base_url=openai_api_base,\n",
        ")\n",
        "\n",
        "chat_response = client.chat.completions.create(\n",
        "    model=\"facebook/opt-125m\",\n",
        "    messages=[\n",
        "        {\"role\": \"system\", \"content\": \"You are a helpful assistant.\"},\n",
        "        {\"role\": \"user\", \"content\": \"Tell me a joke.\"},\n",
        "    ]\n",
        ")\n",
        "print(\"Chat response:\", chat_response)"
      ],
      "metadata": {
        "id": "KeVWWH0AW8QH"
      },
      "execution_count": null,
      "outputs": []
    },
    {
      "cell_type": "markdown",
      "source": [
        "For more in-depth examples and advanced features of the chat API, you can refer to the official OpenAI documentation."
      ],
      "metadata": {
        "id": "Y1fsXMXRW-jy"
      }
    }
  ]
}